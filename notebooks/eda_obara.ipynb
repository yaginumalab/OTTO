{
 "cells": [
  {
   "cell_type": "code",
   "execution_count": 2,
   "metadata": {},
   "outputs": [],
   "source": [
    "import pandas as pd\n",
    "import random\n",
    "import matplotlib.pyplot as plt\n",
    "import seaborn as sns\n",
    "import datetime"
   ]
  },
  {
   "cell_type": "code",
   "execution_count": 3,
   "metadata": {},
   "outputs": [],
   "source": [
    "chunksize = 100_000\n",
    "train_data = pd.read_json('../data/raw/train.jsonl', lines = True, chunksize = chunksize)\n",
    "test_data = pd.read_json('../data/raw/test.jsonl', lines = True, chunksize = chunksize)\n",
    "sample_submission = pd.read_csv('../data/raw/sample_submission.csv', chunksize=chunksize)"
   ]
  },
  {
   "cell_type": "code",
   "execution_count": 4,
   "metadata": {},
   "outputs": [],
   "source": [
    "train = pd.DataFrame()\n",
    "for i, chunk in enumerate(train_data):\n",
    "    event_dict = {\n",
    "        'session': [],\n",
    "        'aid':     [],\n",
    "        'ts':      [],\n",
    "        'type':    []\n",
    "    }\n",
    "\n",
    "    if i >= 2:\n",
    "        break\n",
    "    for session, events in zip(chunk['session'].tolist(), \\\n",
    "                                chunk['events'].tolist()):\n",
    "        for event in events:\n",
    "            event_dict['session'].append(session)\n",
    "            event_dict['aid'].append(event['aid'])\n",
    "            event_dict['ts'].append(event['ts'])\n",
    "            event_dict['type'].append(event['type'])\n",
    "    chunk_session = pd.DataFrame(event_dict)\n",
    "    train = pd.concat([train, chunk_session])\n",
    "train = train.reset_index(drop=True)"
   ]
  },
  {
   "cell_type": "code",
   "execution_count": 5,
   "metadata": {},
   "outputs": [
    {
     "data": {
      "text/html": [
       "<div>\n",
       "<style scoped>\n",
       "    .dataframe tbody tr th:only-of-type {\n",
       "        vertical-align: middle;\n",
       "    }\n",
       "\n",
       "    .dataframe tbody tr th {\n",
       "        vertical-align: top;\n",
       "    }\n",
       "\n",
       "    .dataframe thead th {\n",
       "        text-align: right;\n",
       "    }\n",
       "</style>\n",
       "<table border=\"1\" class=\"dataframe\">\n",
       "  <thead>\n",
       "    <tr style=\"text-align: right;\">\n",
       "      <th></th>\n",
       "      <th>session</th>\n",
       "      <th>aid</th>\n",
       "      <th>ts</th>\n",
       "      <th>type</th>\n",
       "    </tr>\n",
       "  </thead>\n",
       "  <tbody>\n",
       "    <tr>\n",
       "      <th>0</th>\n",
       "      <td>0</td>\n",
       "      <td>1517085</td>\n",
       "      <td>1659304800025</td>\n",
       "      <td>clicks</td>\n",
       "    </tr>\n",
       "    <tr>\n",
       "      <th>1</th>\n",
       "      <td>0</td>\n",
       "      <td>1563459</td>\n",
       "      <td>1659304904511</td>\n",
       "      <td>clicks</td>\n",
       "    </tr>\n",
       "    <tr>\n",
       "      <th>2</th>\n",
       "      <td>0</td>\n",
       "      <td>1309446</td>\n",
       "      <td>1659367439426</td>\n",
       "      <td>clicks</td>\n",
       "    </tr>\n",
       "    <tr>\n",
       "      <th>3</th>\n",
       "      <td>0</td>\n",
       "      <td>16246</td>\n",
       "      <td>1659367719997</td>\n",
       "      <td>clicks</td>\n",
       "    </tr>\n",
       "    <tr>\n",
       "      <th>4</th>\n",
       "      <td>0</td>\n",
       "      <td>1781822</td>\n",
       "      <td>1659367871344</td>\n",
       "      <td>clicks</td>\n",
       "    </tr>\n",
       "    <tr>\n",
       "      <th>...</th>\n",
       "      <td>...</td>\n",
       "      <td>...</td>\n",
       "      <td>...</td>\n",
       "      <td>...</td>\n",
       "    </tr>\n",
       "    <tr>\n",
       "      <th>10285556</th>\n",
       "      <td>199999</td>\n",
       "      <td>928064</td>\n",
       "      <td>1659336408967</td>\n",
       "      <td>clicks</td>\n",
       "    </tr>\n",
       "    <tr>\n",
       "      <th>10285557</th>\n",
       "      <td>199999</td>\n",
       "      <td>849970</td>\n",
       "      <td>1659336449078</td>\n",
       "      <td>clicks</td>\n",
       "    </tr>\n",
       "    <tr>\n",
       "      <th>10285558</th>\n",
       "      <td>199999</td>\n",
       "      <td>1052480</td>\n",
       "      <td>1659336547035</td>\n",
       "      <td>clicks</td>\n",
       "    </tr>\n",
       "    <tr>\n",
       "      <th>10285559</th>\n",
       "      <td>199999</td>\n",
       "      <td>487255</td>\n",
       "      <td>1659336561116</td>\n",
       "      <td>clicks</td>\n",
       "    </tr>\n",
       "    <tr>\n",
       "      <th>10285560</th>\n",
       "      <td>199999</td>\n",
       "      <td>1138833</td>\n",
       "      <td>1659336575075</td>\n",
       "      <td>clicks</td>\n",
       "    </tr>\n",
       "  </tbody>\n",
       "</table>\n",
       "<p>10285561 rows × 4 columns</p>\n",
       "</div>"
      ],
      "text/plain": [
       "          session      aid             ts    type\n",
       "0               0  1517085  1659304800025  clicks\n",
       "1               0  1563459  1659304904511  clicks\n",
       "2               0  1309446  1659367439426  clicks\n",
       "3               0    16246  1659367719997  clicks\n",
       "4               0  1781822  1659367871344  clicks\n",
       "...           ...      ...            ...     ...\n",
       "10285556   199999   928064  1659336408967  clicks\n",
       "10285557   199999   849970  1659336449078  clicks\n",
       "10285558   199999  1052480  1659336547035  clicks\n",
       "10285559   199999   487255  1659336561116  clicks\n",
       "10285560   199999  1138833  1659336575075  clicks\n",
       "\n",
       "[10285561 rows x 4 columns]"
      ]
     },
     "metadata": {},
     "output_type": "display_data"
    }
   ],
   "source": [
    "display(train)"
   ]
  },
  {
   "cell_type": "code",
   "execution_count": 6,
   "metadata": {},
   "outputs": [],
   "source": [
    "test = pd.DataFrame()\n",
    "for i, chunk in enumerate(test_data):\n",
    "    event_dict = {\n",
    "        'session': [],\n",
    "        'aid':     [],\n",
    "        'ts':      [],\n",
    "        'type':    []\n",
    "    }\n",
    "\n",
    "    if i >= 2:\n",
    "        break\n",
    "    for session, events in zip(chunk['session'].tolist(), \\\n",
    "                                chunk['events'].tolist()):\n",
    "        for event in events:\n",
    "            event_dict['session'].append(session)\n",
    "            event_dict['aid'].append(event['aid'])\n",
    "            event_dict['ts'].append(event['ts'])\n",
    "            event_dict['type'].append(event['type'])\n",
    "    chunk_session = pd.DataFrame(event_dict)\n",
    "    test = pd.concat([test, chunk_session])\n",
    "test = test.reset_index(drop=True)"
   ]
  },
  {
   "cell_type": "code",
   "execution_count": 7,
   "metadata": {},
   "outputs": [
    {
     "data": {
      "text/html": [
       "<div>\n",
       "<style scoped>\n",
       "    .dataframe tbody tr th:only-of-type {\n",
       "        vertical-align: middle;\n",
       "    }\n",
       "\n",
       "    .dataframe tbody tr th {\n",
       "        vertical-align: top;\n",
       "    }\n",
       "\n",
       "    .dataframe thead th {\n",
       "        text-align: right;\n",
       "    }\n",
       "</style>\n",
       "<table border=\"1\" class=\"dataframe\">\n",
       "  <thead>\n",
       "    <tr style=\"text-align: right;\">\n",
       "      <th></th>\n",
       "      <th>session</th>\n",
       "      <th>aid</th>\n",
       "      <th>ts</th>\n",
       "      <th>type</th>\n",
       "    </tr>\n",
       "  </thead>\n",
       "  <tbody>\n",
       "    <tr>\n",
       "      <th>0</th>\n",
       "      <td>12899779</td>\n",
       "      <td>59625</td>\n",
       "      <td>1661724000278</td>\n",
       "      <td>clicks</td>\n",
       "    </tr>\n",
       "    <tr>\n",
       "      <th>1</th>\n",
       "      <td>12899780</td>\n",
       "      <td>1142000</td>\n",
       "      <td>1661724000378</td>\n",
       "      <td>clicks</td>\n",
       "    </tr>\n",
       "    <tr>\n",
       "      <th>2</th>\n",
       "      <td>12899780</td>\n",
       "      <td>582732</td>\n",
       "      <td>1661724058352</td>\n",
       "      <td>clicks</td>\n",
       "    </tr>\n",
       "    <tr>\n",
       "      <th>3</th>\n",
       "      <td>12899780</td>\n",
       "      <td>973453</td>\n",
       "      <td>1661724109199</td>\n",
       "      <td>clicks</td>\n",
       "    </tr>\n",
       "    <tr>\n",
       "      <th>4</th>\n",
       "      <td>12899780</td>\n",
       "      <td>736515</td>\n",
       "      <td>1661724136868</td>\n",
       "      <td>clicks</td>\n",
       "    </tr>\n",
       "    <tr>\n",
       "      <th>...</th>\n",
       "      <td>...</td>\n",
       "      <td>...</td>\n",
       "      <td>...</td>\n",
       "      <td>...</td>\n",
       "    </tr>\n",
       "    <tr>\n",
       "      <th>928110</th>\n",
       "      <td>13099776</td>\n",
       "      <td>1159407</td>\n",
       "      <td>1661844072138</td>\n",
       "      <td>clicks</td>\n",
       "    </tr>\n",
       "    <tr>\n",
       "      <th>928111</th>\n",
       "      <td>13099776</td>\n",
       "      <td>546448</td>\n",
       "      <td>1661844142618</td>\n",
       "      <td>clicks</td>\n",
       "    </tr>\n",
       "    <tr>\n",
       "      <th>928112</th>\n",
       "      <td>13099777</td>\n",
       "      <td>468584</td>\n",
       "      <td>1661795832787</td>\n",
       "      <td>clicks</td>\n",
       "    </tr>\n",
       "    <tr>\n",
       "      <th>928113</th>\n",
       "      <td>13099778</td>\n",
       "      <td>926609</td>\n",
       "      <td>1661795832939</td>\n",
       "      <td>clicks</td>\n",
       "    </tr>\n",
       "    <tr>\n",
       "      <th>928114</th>\n",
       "      <td>13099778</td>\n",
       "      <td>1025490</td>\n",
       "      <td>1661795863820</td>\n",
       "      <td>clicks</td>\n",
       "    </tr>\n",
       "  </tbody>\n",
       "</table>\n",
       "<p>928115 rows × 4 columns</p>\n",
       "</div>"
      ],
      "text/plain": [
       "         session      aid             ts    type\n",
       "0       12899779    59625  1661724000278  clicks\n",
       "1       12899780  1142000  1661724000378  clicks\n",
       "2       12899780   582732  1661724058352  clicks\n",
       "3       12899780   973453  1661724109199  clicks\n",
       "4       12899780   736515  1661724136868  clicks\n",
       "...          ...      ...            ...     ...\n",
       "928110  13099776  1159407  1661844072138  clicks\n",
       "928111  13099776   546448  1661844142618  clicks\n",
       "928112  13099777   468584  1661795832787  clicks\n",
       "928113  13099778   926609  1661795832939  clicks\n",
       "928114  13099778  1025490  1661795863820  clicks\n",
       "\n",
       "[928115 rows x 4 columns]"
      ]
     },
     "metadata": {},
     "output_type": "display_data"
    }
   ],
   "source": [
    "display(test)"
   ]
  },
  {
   "cell_type": "markdown",
   "metadata": {},
   "source": [
    "# columns\n",
    "    session -> the unique session id\n",
    "    aid -> the article id (product code) of the associated event\n",
    "    ts -> the Unix timestamp of the event\n",
    "    type -> the event type, i.e., whether a product was clicked, added to the user's cart, or ordered during the session"
   ]
  },
  {
   "cell_type": "markdown",
   "metadata": {},
   "source": [
    "# Making Dataset"
   ]
  },
  {
   "cell_type": "code",
   "execution_count": 8,
   "metadata": {},
   "outputs": [
    {
     "data": {
      "text/html": [
       "<div>\n",
       "<style scoped>\n",
       "    .dataframe tbody tr th:only-of-type {\n",
       "        vertical-align: middle;\n",
       "    }\n",
       "\n",
       "    .dataframe tbody tr th {\n",
       "        vertical-align: top;\n",
       "    }\n",
       "\n",
       "    .dataframe thead th {\n",
       "        text-align: right;\n",
       "    }\n",
       "</style>\n",
       "<table border=\"1\" class=\"dataframe\">\n",
       "  <thead>\n",
       "    <tr style=\"text-align: right;\">\n",
       "      <th></th>\n",
       "      <th>customer_id</th>\n",
       "      <th>product_code</th>\n",
       "      <th>time_stamp</th>\n",
       "      <th>event_type</th>\n",
       "    </tr>\n",
       "  </thead>\n",
       "  <tbody>\n",
       "    <tr>\n",
       "      <th>0</th>\n",
       "      <td>0</td>\n",
       "      <td>1517085</td>\n",
       "      <td>1659304800025</td>\n",
       "      <td>clicks</td>\n",
       "    </tr>\n",
       "    <tr>\n",
       "      <th>1</th>\n",
       "      <td>0</td>\n",
       "      <td>1563459</td>\n",
       "      <td>1659304904511</td>\n",
       "      <td>clicks</td>\n",
       "    </tr>\n",
       "    <tr>\n",
       "      <th>2</th>\n",
       "      <td>0</td>\n",
       "      <td>1309446</td>\n",
       "      <td>1659367439426</td>\n",
       "      <td>clicks</td>\n",
       "    </tr>\n",
       "    <tr>\n",
       "      <th>3</th>\n",
       "      <td>0</td>\n",
       "      <td>16246</td>\n",
       "      <td>1659367719997</td>\n",
       "      <td>clicks</td>\n",
       "    </tr>\n",
       "    <tr>\n",
       "      <th>4</th>\n",
       "      <td>0</td>\n",
       "      <td>1781822</td>\n",
       "      <td>1659367871344</td>\n",
       "      <td>clicks</td>\n",
       "    </tr>\n",
       "    <tr>\n",
       "      <th>...</th>\n",
       "      <td>...</td>\n",
       "      <td>...</td>\n",
       "      <td>...</td>\n",
       "      <td>...</td>\n",
       "    </tr>\n",
       "    <tr>\n",
       "      <th>10285556</th>\n",
       "      <td>199999</td>\n",
       "      <td>928064</td>\n",
       "      <td>1659336408967</td>\n",
       "      <td>clicks</td>\n",
       "    </tr>\n",
       "    <tr>\n",
       "      <th>10285557</th>\n",
       "      <td>199999</td>\n",
       "      <td>849970</td>\n",
       "      <td>1659336449078</td>\n",
       "      <td>clicks</td>\n",
       "    </tr>\n",
       "    <tr>\n",
       "      <th>10285558</th>\n",
       "      <td>199999</td>\n",
       "      <td>1052480</td>\n",
       "      <td>1659336547035</td>\n",
       "      <td>clicks</td>\n",
       "    </tr>\n",
       "    <tr>\n",
       "      <th>10285559</th>\n",
       "      <td>199999</td>\n",
       "      <td>487255</td>\n",
       "      <td>1659336561116</td>\n",
       "      <td>clicks</td>\n",
       "    </tr>\n",
       "    <tr>\n",
       "      <th>10285560</th>\n",
       "      <td>199999</td>\n",
       "      <td>1138833</td>\n",
       "      <td>1659336575075</td>\n",
       "      <td>clicks</td>\n",
       "    </tr>\n",
       "  </tbody>\n",
       "</table>\n",
       "<p>10285561 rows × 4 columns</p>\n",
       "</div>"
      ],
      "text/plain": [
       "          customer_id  product_code     time_stamp event_type\n",
       "0                   0       1517085  1659304800025     clicks\n",
       "1                   0       1563459  1659304904511     clicks\n",
       "2                   0       1309446  1659367439426     clicks\n",
       "3                   0         16246  1659367719997     clicks\n",
       "4                   0       1781822  1659367871344     clicks\n",
       "...               ...           ...            ...        ...\n",
       "10285556       199999        928064  1659336408967     clicks\n",
       "10285557       199999        849970  1659336449078     clicks\n",
       "10285558       199999       1052480  1659336547035     clicks\n",
       "10285559       199999        487255  1659336561116     clicks\n",
       "10285560       199999       1138833  1659336575075     clicks\n",
       "\n",
       "[10285561 rows x 4 columns]"
      ]
     },
     "metadata": {},
     "output_type": "display_data"
    }
   ],
   "source": [
    "train.rename(index=str, columns={'session': 'customer_id',\n",
    "                                'aid' : 'product_code',\n",
    "                                'ts' : 'time_stamp',\n",
    "                                'type' : 'event_type'}, inplace=True)\n",
    "display(train)"
   ]
  },
  {
   "cell_type": "code",
   "execution_count": 9,
   "metadata": {},
   "outputs": [
    {
     "data": {
      "text/html": [
       "<div>\n",
       "<style scoped>\n",
       "    .dataframe tbody tr th:only-of-type {\n",
       "        vertical-align: middle;\n",
       "    }\n",
       "\n",
       "    .dataframe tbody tr th {\n",
       "        vertical-align: top;\n",
       "    }\n",
       "\n",
       "    .dataframe thead th {\n",
       "        text-align: right;\n",
       "    }\n",
       "</style>\n",
       "<table border=\"1\" class=\"dataframe\">\n",
       "  <thead>\n",
       "    <tr style=\"text-align: right;\">\n",
       "      <th></th>\n",
       "      <th>customer_id</th>\n",
       "      <th>product_code</th>\n",
       "      <th>time_stamp</th>\n",
       "      <th>event_type</th>\n",
       "      <th>time_stamp_all</th>\n",
       "    </tr>\n",
       "  </thead>\n",
       "  <tbody>\n",
       "    <tr>\n",
       "      <th>0</th>\n",
       "      <td>0</td>\n",
       "      <td>1517085</td>\n",
       "      <td>1659304800025</td>\n",
       "      <td>clicks</td>\n",
       "      <td>2022-07-31 22:00:00.025</td>\n",
       "    </tr>\n",
       "    <tr>\n",
       "      <th>1</th>\n",
       "      <td>0</td>\n",
       "      <td>1563459</td>\n",
       "      <td>1659304904511</td>\n",
       "      <td>clicks</td>\n",
       "      <td>2022-07-31 22:01:44.511</td>\n",
       "    </tr>\n",
       "    <tr>\n",
       "      <th>2</th>\n",
       "      <td>0</td>\n",
       "      <td>1309446</td>\n",
       "      <td>1659367439426</td>\n",
       "      <td>clicks</td>\n",
       "      <td>2022-08-01 15:23:59.426</td>\n",
       "    </tr>\n",
       "    <tr>\n",
       "      <th>3</th>\n",
       "      <td>0</td>\n",
       "      <td>16246</td>\n",
       "      <td>1659367719997</td>\n",
       "      <td>clicks</td>\n",
       "      <td>2022-08-01 15:28:39.997</td>\n",
       "    </tr>\n",
       "    <tr>\n",
       "      <th>4</th>\n",
       "      <td>0</td>\n",
       "      <td>1781822</td>\n",
       "      <td>1659367871344</td>\n",
       "      <td>clicks</td>\n",
       "      <td>2022-08-01 15:31:11.344</td>\n",
       "    </tr>\n",
       "    <tr>\n",
       "      <th>...</th>\n",
       "      <td>...</td>\n",
       "      <td>...</td>\n",
       "      <td>...</td>\n",
       "      <td>...</td>\n",
       "      <td>...</td>\n",
       "    </tr>\n",
       "    <tr>\n",
       "      <th>10285556</th>\n",
       "      <td>199999</td>\n",
       "      <td>928064</td>\n",
       "      <td>1659336408967</td>\n",
       "      <td>clicks</td>\n",
       "      <td>2022-08-01 06:46:48.967</td>\n",
       "    </tr>\n",
       "    <tr>\n",
       "      <th>10285557</th>\n",
       "      <td>199999</td>\n",
       "      <td>849970</td>\n",
       "      <td>1659336449078</td>\n",
       "      <td>clicks</td>\n",
       "      <td>2022-08-01 06:47:29.078</td>\n",
       "    </tr>\n",
       "    <tr>\n",
       "      <th>10285558</th>\n",
       "      <td>199999</td>\n",
       "      <td>1052480</td>\n",
       "      <td>1659336547035</td>\n",
       "      <td>clicks</td>\n",
       "      <td>2022-08-01 06:49:07.035</td>\n",
       "    </tr>\n",
       "    <tr>\n",
       "      <th>10285559</th>\n",
       "      <td>199999</td>\n",
       "      <td>487255</td>\n",
       "      <td>1659336561116</td>\n",
       "      <td>clicks</td>\n",
       "      <td>2022-08-01 06:49:21.116</td>\n",
       "    </tr>\n",
       "    <tr>\n",
       "      <th>10285560</th>\n",
       "      <td>199999</td>\n",
       "      <td>1138833</td>\n",
       "      <td>1659336575075</td>\n",
       "      <td>clicks</td>\n",
       "      <td>2022-08-01 06:49:35.075</td>\n",
       "    </tr>\n",
       "  </tbody>\n",
       "</table>\n",
       "<p>10285561 rows × 5 columns</p>\n",
       "</div>"
      ],
      "text/plain": [
       "          customer_id  product_code     time_stamp event_type  \\\n",
       "0                   0       1517085  1659304800025     clicks   \n",
       "1                   0       1563459  1659304904511     clicks   \n",
       "2                   0       1309446  1659367439426     clicks   \n",
       "3                   0         16246  1659367719997     clicks   \n",
       "4                   0       1781822  1659367871344     clicks   \n",
       "...               ...           ...            ...        ...   \n",
       "10285556       199999        928064  1659336408967     clicks   \n",
       "10285557       199999        849970  1659336449078     clicks   \n",
       "10285558       199999       1052480  1659336547035     clicks   \n",
       "10285559       199999        487255  1659336561116     clicks   \n",
       "10285560       199999       1138833  1659336575075     clicks   \n",
       "\n",
       "                  time_stamp_all  \n",
       "0        2022-07-31 22:00:00.025  \n",
       "1        2022-07-31 22:01:44.511  \n",
       "2        2022-08-01 15:23:59.426  \n",
       "3        2022-08-01 15:28:39.997  \n",
       "4        2022-08-01 15:31:11.344  \n",
       "...                          ...  \n",
       "10285556 2022-08-01 06:46:48.967  \n",
       "10285557 2022-08-01 06:47:29.078  \n",
       "10285558 2022-08-01 06:49:07.035  \n",
       "10285559 2022-08-01 06:49:21.116  \n",
       "10285560 2022-08-01 06:49:35.075  \n",
       "\n",
       "[10285561 rows x 5 columns]"
      ]
     },
     "execution_count": 9,
     "metadata": {},
     "output_type": "execute_result"
    }
   ],
   "source": [
    "#  change ts to datetime\n",
    "train['time_stamp_all'] = pd.to_datetime(train['time_stamp'], unit='ms')\n",
    "train"
   ]
  },
  {
   "cell_type": "code",
   "execution_count": 10,
   "metadata": {},
   "outputs": [
    {
     "data": {
      "text/html": [
       "<div>\n",
       "<style scoped>\n",
       "    .dataframe tbody tr th:only-of-type {\n",
       "        vertical-align: middle;\n",
       "    }\n",
       "\n",
       "    .dataframe tbody tr th {\n",
       "        vertical-align: top;\n",
       "    }\n",
       "\n",
       "    .dataframe thead th {\n",
       "        text-align: right;\n",
       "    }\n",
       "</style>\n",
       "<table border=\"1\" class=\"dataframe\">\n",
       "  <thead>\n",
       "    <tr style=\"text-align: right;\">\n",
       "      <th></th>\n",
       "      <th>customer_id</th>\n",
       "      <th>product_code</th>\n",
       "      <th>year_month</th>\n",
       "      <th>year</th>\n",
       "      <th>month</th>\n",
       "      <th>day</th>\n",
       "      <th>hour</th>\n",
       "      <th>time_stamp</th>\n",
       "      <th>event_type</th>\n",
       "      <th>time_stamp_all</th>\n",
       "    </tr>\n",
       "  </thead>\n",
       "  <tbody>\n",
       "    <tr>\n",
       "      <th>0</th>\n",
       "      <td>0</td>\n",
       "      <td>1517085</td>\n",
       "      <td>202207</td>\n",
       "      <td>2022</td>\n",
       "      <td>7</td>\n",
       "      <td>7</td>\n",
       "      <td>23</td>\n",
       "      <td>1659304800025</td>\n",
       "      <td>clicks</td>\n",
       "      <td>2022-07-31 22:00:00.025</td>\n",
       "    </tr>\n",
       "    <tr>\n",
       "      <th>1</th>\n",
       "      <td>0</td>\n",
       "      <td>1563459</td>\n",
       "      <td>202207</td>\n",
       "      <td>2022</td>\n",
       "      <td>7</td>\n",
       "      <td>7</td>\n",
       "      <td>23</td>\n",
       "      <td>1659304904511</td>\n",
       "      <td>clicks</td>\n",
       "      <td>2022-07-31 22:01:44.511</td>\n",
       "    </tr>\n",
       "    <tr>\n",
       "      <th>2</th>\n",
       "      <td>0</td>\n",
       "      <td>1309446</td>\n",
       "      <td>202208</td>\n",
       "      <td>2022</td>\n",
       "      <td>8</td>\n",
       "      <td>1</td>\n",
       "      <td>16</td>\n",
       "      <td>1659367439426</td>\n",
       "      <td>clicks</td>\n",
       "      <td>2022-08-01 15:23:59.426</td>\n",
       "    </tr>\n",
       "    <tr>\n",
       "      <th>3</th>\n",
       "      <td>0</td>\n",
       "      <td>16246</td>\n",
       "      <td>202208</td>\n",
       "      <td>2022</td>\n",
       "      <td>8</td>\n",
       "      <td>1</td>\n",
       "      <td>16</td>\n",
       "      <td>1659367719997</td>\n",
       "      <td>clicks</td>\n",
       "      <td>2022-08-01 15:28:39.997</td>\n",
       "    </tr>\n",
       "    <tr>\n",
       "      <th>4</th>\n",
       "      <td>0</td>\n",
       "      <td>1781822</td>\n",
       "      <td>202208</td>\n",
       "      <td>2022</td>\n",
       "      <td>8</td>\n",
       "      <td>1</td>\n",
       "      <td>16</td>\n",
       "      <td>1659367871344</td>\n",
       "      <td>clicks</td>\n",
       "      <td>2022-08-01 15:31:11.344</td>\n",
       "    </tr>\n",
       "    <tr>\n",
       "      <th>...</th>\n",
       "      <td>...</td>\n",
       "      <td>...</td>\n",
       "      <td>...</td>\n",
       "      <td>...</td>\n",
       "      <td>...</td>\n",
       "      <td>...</td>\n",
       "      <td>...</td>\n",
       "      <td>...</td>\n",
       "      <td>...</td>\n",
       "      <td>...</td>\n",
       "    </tr>\n",
       "    <tr>\n",
       "      <th>10285556</th>\n",
       "      <td>199999</td>\n",
       "      <td>928064</td>\n",
       "      <td>202208</td>\n",
       "      <td>2022</td>\n",
       "      <td>8</td>\n",
       "      <td>1</td>\n",
       "      <td>7</td>\n",
       "      <td>1659336408967</td>\n",
       "      <td>clicks</td>\n",
       "      <td>2022-08-01 06:46:48.967</td>\n",
       "    </tr>\n",
       "    <tr>\n",
       "      <th>10285557</th>\n",
       "      <td>199999</td>\n",
       "      <td>849970</td>\n",
       "      <td>202208</td>\n",
       "      <td>2022</td>\n",
       "      <td>8</td>\n",
       "      <td>1</td>\n",
       "      <td>7</td>\n",
       "      <td>1659336449078</td>\n",
       "      <td>clicks</td>\n",
       "      <td>2022-08-01 06:47:29.078</td>\n",
       "    </tr>\n",
       "    <tr>\n",
       "      <th>10285558</th>\n",
       "      <td>199999</td>\n",
       "      <td>1052480</td>\n",
       "      <td>202208</td>\n",
       "      <td>2022</td>\n",
       "      <td>8</td>\n",
       "      <td>1</td>\n",
       "      <td>7</td>\n",
       "      <td>1659336547035</td>\n",
       "      <td>clicks</td>\n",
       "      <td>2022-08-01 06:49:07.035</td>\n",
       "    </tr>\n",
       "    <tr>\n",
       "      <th>10285559</th>\n",
       "      <td>199999</td>\n",
       "      <td>487255</td>\n",
       "      <td>202208</td>\n",
       "      <td>2022</td>\n",
       "      <td>8</td>\n",
       "      <td>1</td>\n",
       "      <td>7</td>\n",
       "      <td>1659336561116</td>\n",
       "      <td>clicks</td>\n",
       "      <td>2022-08-01 06:49:21.116</td>\n",
       "    </tr>\n",
       "    <tr>\n",
       "      <th>10285560</th>\n",
       "      <td>199999</td>\n",
       "      <td>1138833</td>\n",
       "      <td>202208</td>\n",
       "      <td>2022</td>\n",
       "      <td>8</td>\n",
       "      <td>1</td>\n",
       "      <td>7</td>\n",
       "      <td>1659336575075</td>\n",
       "      <td>clicks</td>\n",
       "      <td>2022-08-01 06:49:35.075</td>\n",
       "    </tr>\n",
       "  </tbody>\n",
       "</table>\n",
       "<p>10285561 rows × 10 columns</p>\n",
       "</div>"
      ],
      "text/plain": [
       "          customer_id  product_code  year_month  year  month  day  hour  \\\n",
       "0                   0       1517085      202207  2022      7    7    23   \n",
       "1                   0       1563459      202207  2022      7    7    23   \n",
       "2                   0       1309446      202208  2022      8    1    16   \n",
       "3                   0         16246      202208  2022      8    1    16   \n",
       "4                   0       1781822      202208  2022      8    1    16   \n",
       "...               ...           ...         ...   ...    ...  ...   ...   \n",
       "10285556       199999        928064      202208  2022      8    1     7   \n",
       "10285557       199999        849970      202208  2022      8    1     7   \n",
       "10285558       199999       1052480      202208  2022      8    1     7   \n",
       "10285559       199999        487255      202208  2022      8    1     7   \n",
       "10285560       199999       1138833      202208  2022      8    1     7   \n",
       "\n",
       "             time_stamp event_type          time_stamp_all  \n",
       "0         1659304800025     clicks 2022-07-31 22:00:00.025  \n",
       "1         1659304904511     clicks 2022-07-31 22:01:44.511  \n",
       "2         1659367439426     clicks 2022-08-01 15:23:59.426  \n",
       "3         1659367719997     clicks 2022-08-01 15:28:39.997  \n",
       "4         1659367871344     clicks 2022-08-01 15:31:11.344  \n",
       "...                 ...        ...                     ...  \n",
       "10285556  1659336408967     clicks 2022-08-01 06:46:48.967  \n",
       "10285557  1659336449078     clicks 2022-08-01 06:47:29.078  \n",
       "10285558  1659336547035     clicks 2022-08-01 06:49:07.035  \n",
       "10285559  1659336561116     clicks 2022-08-01 06:49:21.116  \n",
       "10285560  1659336575075     clicks 2022-08-01 06:49:35.075  \n",
       "\n",
       "[10285561 rows x 10 columns]"
      ]
     },
     "metadata": {},
     "output_type": "display_data"
    }
   ],
   "source": [
    "#  add year and month as a column\n",
    "train.insert(loc=2, column='year_month', value=train.time_stamp_all.map(lambda x: 100*x.year + x.month))\n",
    "\n",
    "#  break out the year \n",
    "train.insert(loc=3, column='year', value=train.time_stamp_all.dt.year)\n",
    "\n",
    "#  break out the month\n",
    "train.insert(loc=4, column='month', value=train.time_stamp_all.dt.month)\n",
    "\n",
    "#  break out the day\n",
    "train.insert(loc=5, column='day', value=(train.time_stamp_all.dt.dayofweek)+1)\n",
    "\n",
    "#  break out the hour\n",
    "train.insert(loc=6, column='hour', value=(train.time_stamp_all.dt.hour)+1)\n",
    "\n",
    "display(train)\n"
   ]
  },
  {
   "cell_type": "code",
   "execution_count": 10,
   "metadata": {},
   "outputs": [
    {
     "ename": "FileNotFoundError",
     "evalue": "[Errno 2] No such file or directory: '../data/interim/breakout_date.csv'",
     "output_type": "error",
     "traceback": [
      "\u001b[0;31m---------------------------------------------------------------------------\u001b[0m",
      "\u001b[0;31mFileNotFoundError\u001b[0m                         Traceback (most recent call last)",
      "Cell \u001b[0;32mIn [10], line 1\u001b[0m\n\u001b[0;32m----> 1\u001b[0m train\u001b[39m.\u001b[39;49mto_csv(\u001b[39m'\u001b[39;49m\u001b[39m../data/interim/breakout_date.csv\u001b[39;49m\u001b[39m'\u001b[39;49m, index \u001b[39m=\u001b[39;49m \u001b[39mFalse\u001b[39;49;00m)\n",
      "File \u001b[0;32m~/opt/anaconda3/lib/python3.9/site-packages/pandas/core/generic.py:3466\u001b[0m, in \u001b[0;36mNDFrame.to_csv\u001b[0;34m(self, path_or_buf, sep, na_rep, float_format, columns, header, index, index_label, mode, encoding, compression, quoting, quotechar, line_terminator, chunksize, date_format, doublequote, escapechar, decimal, errors, storage_options)\u001b[0m\n\u001b[1;32m   3455\u001b[0m df \u001b[39m=\u001b[39m \u001b[39mself\u001b[39m \u001b[39mif\u001b[39;00m \u001b[39misinstance\u001b[39m(\u001b[39mself\u001b[39m, ABCDataFrame) \u001b[39melse\u001b[39;00m \u001b[39mself\u001b[39m\u001b[39m.\u001b[39mto_frame()\n\u001b[1;32m   3457\u001b[0m formatter \u001b[39m=\u001b[39m DataFrameFormatter(\n\u001b[1;32m   3458\u001b[0m     frame\u001b[39m=\u001b[39mdf,\n\u001b[1;32m   3459\u001b[0m     header\u001b[39m=\u001b[39mheader,\n\u001b[0;32m   (...)\u001b[0m\n\u001b[1;32m   3463\u001b[0m     decimal\u001b[39m=\u001b[39mdecimal,\n\u001b[1;32m   3464\u001b[0m )\n\u001b[0;32m-> 3466\u001b[0m \u001b[39mreturn\u001b[39;00m DataFrameRenderer(formatter)\u001b[39m.\u001b[39;49mto_csv(\n\u001b[1;32m   3467\u001b[0m     path_or_buf,\n\u001b[1;32m   3468\u001b[0m     line_terminator\u001b[39m=\u001b[39;49mline_terminator,\n\u001b[1;32m   3469\u001b[0m     sep\u001b[39m=\u001b[39;49msep,\n\u001b[1;32m   3470\u001b[0m     encoding\u001b[39m=\u001b[39;49mencoding,\n\u001b[1;32m   3471\u001b[0m     errors\u001b[39m=\u001b[39;49merrors,\n\u001b[1;32m   3472\u001b[0m     compression\u001b[39m=\u001b[39;49mcompression,\n\u001b[1;32m   3473\u001b[0m     quoting\u001b[39m=\u001b[39;49mquoting,\n\u001b[1;32m   3474\u001b[0m     columns\u001b[39m=\u001b[39;49mcolumns,\n\u001b[1;32m   3475\u001b[0m     index_label\u001b[39m=\u001b[39;49mindex_label,\n\u001b[1;32m   3476\u001b[0m     mode\u001b[39m=\u001b[39;49mmode,\n\u001b[1;32m   3477\u001b[0m     chunksize\u001b[39m=\u001b[39;49mchunksize,\n\u001b[1;32m   3478\u001b[0m     quotechar\u001b[39m=\u001b[39;49mquotechar,\n\u001b[1;32m   3479\u001b[0m     date_format\u001b[39m=\u001b[39;49mdate_format,\n\u001b[1;32m   3480\u001b[0m     doublequote\u001b[39m=\u001b[39;49mdoublequote,\n\u001b[1;32m   3481\u001b[0m     escapechar\u001b[39m=\u001b[39;49mescapechar,\n\u001b[1;32m   3482\u001b[0m     storage_options\u001b[39m=\u001b[39;49mstorage_options,\n\u001b[1;32m   3483\u001b[0m )\n",
      "File \u001b[0;32m~/opt/anaconda3/lib/python3.9/site-packages/pandas/io/formats/format.py:1105\u001b[0m, in \u001b[0;36mDataFrameRenderer.to_csv\u001b[0;34m(self, path_or_buf, encoding, sep, columns, index_label, mode, compression, quoting, quotechar, line_terminator, chunksize, date_format, doublequote, escapechar, errors, storage_options)\u001b[0m\n\u001b[1;32m   1084\u001b[0m     created_buffer \u001b[39m=\u001b[39m \u001b[39mFalse\u001b[39;00m\n\u001b[1;32m   1086\u001b[0m csv_formatter \u001b[39m=\u001b[39m CSVFormatter(\n\u001b[1;32m   1087\u001b[0m     path_or_buf\u001b[39m=\u001b[39mpath_or_buf,\n\u001b[1;32m   1088\u001b[0m     line_terminator\u001b[39m=\u001b[39mline_terminator,\n\u001b[0;32m   (...)\u001b[0m\n\u001b[1;32m   1103\u001b[0m     formatter\u001b[39m=\u001b[39m\u001b[39mself\u001b[39m\u001b[39m.\u001b[39mfmt,\n\u001b[1;32m   1104\u001b[0m )\n\u001b[0;32m-> 1105\u001b[0m csv_formatter\u001b[39m.\u001b[39;49msave()\n\u001b[1;32m   1107\u001b[0m \u001b[39mif\u001b[39;00m created_buffer:\n\u001b[1;32m   1108\u001b[0m     \u001b[39massert\u001b[39;00m \u001b[39misinstance\u001b[39m(path_or_buf, StringIO)\n",
      "File \u001b[0;32m~/opt/anaconda3/lib/python3.9/site-packages/pandas/io/formats/csvs.py:237\u001b[0m, in \u001b[0;36mCSVFormatter.save\u001b[0;34m(self)\u001b[0m\n\u001b[1;32m    233\u001b[0m \u001b[39m\"\"\"\u001b[39;00m\n\u001b[1;32m    234\u001b[0m \u001b[39mCreate the writer & save.\u001b[39;00m\n\u001b[1;32m    235\u001b[0m \u001b[39m\"\"\"\u001b[39;00m\n\u001b[1;32m    236\u001b[0m \u001b[39m# apply compression and byte/text conversion\u001b[39;00m\n\u001b[0;32m--> 237\u001b[0m \u001b[39mwith\u001b[39;00m get_handle(\n\u001b[1;32m    238\u001b[0m     \u001b[39mself\u001b[39;49m\u001b[39m.\u001b[39;49mfilepath_or_buffer,\n\u001b[1;32m    239\u001b[0m     \u001b[39mself\u001b[39;49m\u001b[39m.\u001b[39;49mmode,\n\u001b[1;32m    240\u001b[0m     encoding\u001b[39m=\u001b[39;49m\u001b[39mself\u001b[39;49m\u001b[39m.\u001b[39;49mencoding,\n\u001b[1;32m    241\u001b[0m     errors\u001b[39m=\u001b[39;49m\u001b[39mself\u001b[39;49m\u001b[39m.\u001b[39;49merrors,\n\u001b[1;32m    242\u001b[0m     compression\u001b[39m=\u001b[39;49m\u001b[39mself\u001b[39;49m\u001b[39m.\u001b[39;49mcompression,\n\u001b[1;32m    243\u001b[0m     storage_options\u001b[39m=\u001b[39;49m\u001b[39mself\u001b[39;49m\u001b[39m.\u001b[39;49mstorage_options,\n\u001b[1;32m    244\u001b[0m ) \u001b[39mas\u001b[39;00m handles:\n\u001b[1;32m    245\u001b[0m \n\u001b[1;32m    246\u001b[0m     \u001b[39m# Note: self.encoding is irrelevant here\u001b[39;00m\n\u001b[1;32m    247\u001b[0m     \u001b[39mself\u001b[39m\u001b[39m.\u001b[39mwriter \u001b[39m=\u001b[39m csvlib\u001b[39m.\u001b[39mwriter(\n\u001b[1;32m    248\u001b[0m         handles\u001b[39m.\u001b[39mhandle,  \u001b[39m# type: ignore[arg-type]\u001b[39;00m\n\u001b[1;32m    249\u001b[0m         lineterminator\u001b[39m=\u001b[39m\u001b[39mself\u001b[39m\u001b[39m.\u001b[39mline_terminator,\n\u001b[0;32m   (...)\u001b[0m\n\u001b[1;32m    254\u001b[0m         quotechar\u001b[39m=\u001b[39m\u001b[39mself\u001b[39m\u001b[39m.\u001b[39mquotechar,\n\u001b[1;32m    255\u001b[0m     )\n\u001b[1;32m    257\u001b[0m     \u001b[39mself\u001b[39m\u001b[39m.\u001b[39m_save()\n",
      "File \u001b[0;32m~/opt/anaconda3/lib/python3.9/site-packages/pandas/io/common.py:702\u001b[0m, in \u001b[0;36mget_handle\u001b[0;34m(path_or_buf, mode, encoding, compression, memory_map, is_text, errors, storage_options)\u001b[0m\n\u001b[1;32m    697\u001b[0m \u001b[39melif\u001b[39;00m \u001b[39misinstance\u001b[39m(handle, \u001b[39mstr\u001b[39m):\n\u001b[1;32m    698\u001b[0m     \u001b[39m# Check whether the filename is to be opened in binary mode.\u001b[39;00m\n\u001b[1;32m    699\u001b[0m     \u001b[39m# Binary mode does not support 'encoding' and 'newline'.\u001b[39;00m\n\u001b[1;32m    700\u001b[0m     \u001b[39mif\u001b[39;00m ioargs\u001b[39m.\u001b[39mencoding \u001b[39mand\u001b[39;00m \u001b[39m\"\u001b[39m\u001b[39mb\u001b[39m\u001b[39m\"\u001b[39m \u001b[39mnot\u001b[39;00m \u001b[39min\u001b[39;00m ioargs\u001b[39m.\u001b[39mmode:\n\u001b[1;32m    701\u001b[0m         \u001b[39m# Encoding\u001b[39;00m\n\u001b[0;32m--> 702\u001b[0m         handle \u001b[39m=\u001b[39m \u001b[39mopen\u001b[39;49m(\n\u001b[1;32m    703\u001b[0m             handle,\n\u001b[1;32m    704\u001b[0m             ioargs\u001b[39m.\u001b[39;49mmode,\n\u001b[1;32m    705\u001b[0m             encoding\u001b[39m=\u001b[39;49mioargs\u001b[39m.\u001b[39;49mencoding,\n\u001b[1;32m    706\u001b[0m             errors\u001b[39m=\u001b[39;49merrors,\n\u001b[1;32m    707\u001b[0m             newline\u001b[39m=\u001b[39;49m\u001b[39m\"\u001b[39;49m\u001b[39m\"\u001b[39;49m,\n\u001b[1;32m    708\u001b[0m         )\n\u001b[1;32m    709\u001b[0m     \u001b[39melse\u001b[39;00m:\n\u001b[1;32m    710\u001b[0m         \u001b[39m# Binary mode\u001b[39;00m\n\u001b[1;32m    711\u001b[0m         handle \u001b[39m=\u001b[39m \u001b[39mopen\u001b[39m(handle, ioargs\u001b[39m.\u001b[39mmode)\n",
      "\u001b[0;31mFileNotFoundError\u001b[0m: [Errno 2] No such file or directory: '../data/interim/breakout_date.csv'"
     ]
    }
   ],
   "source": [
    "train.to_csv('../data/interim/breakout_date.csv', index = False)"
   ]
  },
  {
   "cell_type": "markdown",
   "metadata": {},
   "source": [
    "# Visualization"
   ]
  },
  {
   "cell_type": "code",
   "execution_count": 148,
   "metadata": {},
   "outputs": [
    {
     "data": {
      "image/png": "[encoded data removed]",
      "text/plain": [
       "<Figure size 1080x360 with 1 Axes>"
      ]
     },
     "metadata": {
      "needs_background": "light"
     },
     "output_type": "display_data"
    },
    {
     "data": {
      "image/png": "[encoded data removed]",
      "text/plain": [
       "<Figure size 1080x360 with 1 Axes>"
      ]
     },
     "metadata": {
      "needs_background": "light"
     },
     "output_type": "display_data"
    },
    {
     "data": {
      "image/png": "[encoded data removed]",
      "text/plain": [
       "<Figure size 1080x360 with 1 Axes>"
      ]
     },
     "metadata": {
      "needs_background": "light"
     },
     "output_type": "display_data"
    },
    {
     "data": {
      "image/png": "[encoded data removed]",
      "text/plain": [
       "<Figure size 1080x360 with 1 Axes>"
      ]
     },
     "metadata": {
      "needs_background": "light"
     },
     "output_type": "display_data"
    },
    {
     "data": {
      "image/png": "[encoded data removed]",
      "text/plain": [
       "<Figure size 1080x360 with 1 Axes>"
      ]
     },
     "metadata": {
      "needs_background": "light"
     },
     "output_type": "display_data"
    }
   ],
   "source": [
    "#  visualize customer session \n",
    "for customer in random.sample(range(200000), 5):\n",
    "    customer_df = train[train['customer_id'] == customer]\n",
    "    customer_df = customer_df.sort_values(by='time_stamp')\n",
    "    fig, ax = plt.subplots(figsize=(15, 5))\n",
    "    ax.set_title('Customer Session Overview')\n",
    "    sns.scatterplot(x='time_stamp', y='event_type', data=customer_df, hue='event_type', ax=ax)\n",
    "    plt.show()    "
   ]
  },
  {
   "cell_type": "code",
   "execution_count": 28,
   "metadata": {},
   "outputs": [
    {
     "data": {
      "text/plain": [
       "clicks    9320528\n",
       "carts      751785\n",
       "orders     213248\n",
       "Name: event_type, dtype: int64"
      ]
     },
     "execution_count": 28,
     "metadata": {},
     "output_type": "execute_result"
    }
   ],
   "source": [
    "train.event_type.value_counts()"
   ]
  },
  {
   "cell_type": "code",
   "execution_count": 29,
   "metadata": {},
   "outputs": [
    {
     "name": "stdout",
     "output_type": "stream",
     "text": [
      "percentage of orders after add to cart: 0.63%\n"
     ]
    }
   ],
   "source": [
    "#  check orders after add to cart\n",
    "train['order'] = train['event_type'].apply(lambda x: 1 if x=='orders' else 0)  # order dummy\n",
    "train['add_to_cart'] = train['event_type'].apply(lambda x: 1 if x=='carts' else 0)  # add to cart dummy\n",
    "train['order_after_cart'] = train['order'].shift(-1) + train['add_to_cart']\n",
    "train['order_after_cart'] = train['order_after_cart'].apply(lambda x: 1 if x==2 else 0)\n",
    "per = train['order_after_cart'].value_counts(normalize=True)[1]\n",
    "print(f'percentage of orders after add to cart: {per:.2%}')\n"
   ]
  },
  {
   "cell_type": "code",
   "execution_count": 30,
   "metadata": {},
   "outputs": [
    {
     "name": "stdout",
     "output_type": "stream",
     "text": [
      "percentage of add to cart after clicks: 5.89%\n"
     ]
    }
   ],
   "source": [
    "#  check add to carts after click\n",
    "train['click'] = train['event_type'].apply(lambda x: 1 if x == 'clicks' else 0)\n",
    "train['cart_after_click'] = train['click'].shift(-1) + train['add_to_cart']\n",
    "train['cart_after_click'] = train['cart_after_click'].apply(lambda x: 1 if x==2 else 0)\n",
    "per = train['cart_after_click'].value_counts(normalize=True)[1]\n",
    "print(f'percentage of add to cart after clicks: {per:.2%}')"
   ]
  },
  {
   "cell_type": "code",
   "execution_count": 31,
   "metadata": {},
   "outputs": [
    {
     "name": "stdout",
     "output_type": "stream",
     "text": [
      "percentage of add to cart after clicks: 83.64%\n"
     ]
    }
   ],
   "source": [
    "#  check click after click\n",
    "train['click_after_click'] = train['click'].shift(-1) + train['click']\n",
    "train['click_after_click'] = train['click_after_click'].apply(lambda x: 1 if x==2 else 0)\n",
    "per = train['click_after_click'].value_counts(normalize=True)[1]\n",
    "print(f'percentage of add to cart after clicks: {per:.2%}')\n"
   ]
  },
  {
   "cell_type": "code",
   "execution_count": 32,
   "metadata": {},
   "outputs": [
    {
     "ename": "FileNotFoundError",
     "evalue": "[Errno 2] No such file or directory: '../data/interim/add_rel_action.csv'",
     "output_type": "error",
     "traceback": [
      "\u001b[0;31m---------------------------------------------------------------------------\u001b[0m",
      "\u001b[0;31mFileNotFoundError\u001b[0m                         Traceback (most recent call last)",
      "Cell \u001b[0;32mIn [32], line 1\u001b[0m\n\u001b[0;32m----> 1\u001b[0m train\u001b[39m.\u001b[39;49mto_csv(\u001b[39m'\u001b[39;49m\u001b[39m../data/interim/add_rel_action.csv\u001b[39;49m\u001b[39m'\u001b[39;49m, index \u001b[39m=\u001b[39;49m \u001b[39mFalse\u001b[39;49;00m)\n\u001b[1;32m      2\u001b[0m train\n",
      "File \u001b[0;32m~/opt/anaconda3/lib/python3.9/site-packages/pandas/core/generic.py:3466\u001b[0m, in \u001b[0;36mNDFrame.to_csv\u001b[0;34m(self, path_or_buf, sep, na_rep, float_format, columns, header, index, index_label, mode, encoding, compression, quoting, quotechar, line_terminator, chunksize, date_format, doublequote, escapechar, decimal, errors, storage_options)\u001b[0m\n\u001b[1;32m   3455\u001b[0m df \u001b[39m=\u001b[39m \u001b[39mself\u001b[39m \u001b[39mif\u001b[39;00m \u001b[39misinstance\u001b[39m(\u001b[39mself\u001b[39m, ABCDataFrame) \u001b[39melse\u001b[39;00m \u001b[39mself\u001b[39m\u001b[39m.\u001b[39mto_frame()\n\u001b[1;32m   3457\u001b[0m formatter \u001b[39m=\u001b[39m DataFrameFormatter(\n\u001b[1;32m   3458\u001b[0m     frame\u001b[39m=\u001b[39mdf,\n\u001b[1;32m   3459\u001b[0m     header\u001b[39m=\u001b[39mheader,\n\u001b[0;32m   (...)\u001b[0m\n\u001b[1;32m   3463\u001b[0m     decimal\u001b[39m=\u001b[39mdecimal,\n\u001b[1;32m   3464\u001b[0m )\n\u001b[0;32m-> 3466\u001b[0m \u001b[39mreturn\u001b[39;00m DataFrameRenderer(formatter)\u001b[39m.\u001b[39;49mto_csv(\n\u001b[1;32m   3467\u001b[0m     path_or_buf,\n\u001b[1;32m   3468\u001b[0m     line_terminator\u001b[39m=\u001b[39;49mline_terminator,\n\u001b[1;32m   3469\u001b[0m     sep\u001b[39m=\u001b[39;49msep,\n\u001b[1;32m   3470\u001b[0m     encoding\u001b[39m=\u001b[39;49mencoding,\n\u001b[1;32m   3471\u001b[0m     errors\u001b[39m=\u001b[39;49merrors,\n\u001b[1;32m   3472\u001b[0m     compression\u001b[39m=\u001b[39;49mcompression,\n\u001b[1;32m   3473\u001b[0m     quoting\u001b[39m=\u001b[39;49mquoting,\n\u001b[1;32m   3474\u001b[0m     columns\u001b[39m=\u001b[39;49mcolumns,\n\u001b[1;32m   3475\u001b[0m     index_label\u001b[39m=\u001b[39;49mindex_label,\n\u001b[1;32m   3476\u001b[0m     mode\u001b[39m=\u001b[39;49mmode,\n\u001b[1;32m   3477\u001b[0m     chunksize\u001b[39m=\u001b[39;49mchunksize,\n\u001b[1;32m   3478\u001b[0m     quotechar\u001b[39m=\u001b[39;49mquotechar,\n\u001b[1;32m   3479\u001b[0m     date_format\u001b[39m=\u001b[39;49mdate_format,\n\u001b[1;32m   3480\u001b[0m     doublequote\u001b[39m=\u001b[39;49mdoublequote,\n\u001b[1;32m   3481\u001b[0m     escapechar\u001b[39m=\u001b[39;49mescapechar,\n\u001b[1;32m   3482\u001b[0m     storage_options\u001b[39m=\u001b[39;49mstorage_options,\n\u001b[1;32m   3483\u001b[0m )\n",
      "File \u001b[0;32m~/opt/anaconda3/lib/python3.9/site-packages/pandas/io/formats/format.py:1105\u001b[0m, in \u001b[0;36mDataFrameRenderer.to_csv\u001b[0;34m(self, path_or_buf, encoding, sep, columns, index_label, mode, compression, quoting, quotechar, line_terminator, chunksize, date_format, doublequote, escapechar, errors, storage_options)\u001b[0m\n\u001b[1;32m   1084\u001b[0m     created_buffer \u001b[39m=\u001b[39m \u001b[39mFalse\u001b[39;00m\n\u001b[1;32m   1086\u001b[0m csv_formatter \u001b[39m=\u001b[39m CSVFormatter(\n\u001b[1;32m   1087\u001b[0m     path_or_buf\u001b[39m=\u001b[39mpath_or_buf,\n\u001b[1;32m   1088\u001b[0m     line_terminator\u001b[39m=\u001b[39mline_terminator,\n\u001b[0;32m   (...)\u001b[0m\n\u001b[1;32m   1103\u001b[0m     formatter\u001b[39m=\u001b[39m\u001b[39mself\u001b[39m\u001b[39m.\u001b[39mfmt,\n\u001b[1;32m   1104\u001b[0m )\n\u001b[0;32m-> 1105\u001b[0m csv_formatter\u001b[39m.\u001b[39;49msave()\n\u001b[1;32m   1107\u001b[0m \u001b[39mif\u001b[39;00m created_buffer:\n\u001b[1;32m   1108\u001b[0m     \u001b[39massert\u001b[39;00m \u001b[39misinstance\u001b[39m(path_or_buf, StringIO)\n",
      "File \u001b[0;32m~/opt/anaconda3/lib/python3.9/site-packages/pandas/io/formats/csvs.py:237\u001b[0m, in \u001b[0;36mCSVFormatter.save\u001b[0;34m(self)\u001b[0m\n\u001b[1;32m    233\u001b[0m \u001b[39m\"\"\"\u001b[39;00m\n\u001b[1;32m    234\u001b[0m \u001b[39mCreate the writer & save.\u001b[39;00m\n\u001b[1;32m    235\u001b[0m \u001b[39m\"\"\"\u001b[39;00m\n\u001b[1;32m    236\u001b[0m \u001b[39m# apply compression and byte/text conversion\u001b[39;00m\n\u001b[0;32m--> 237\u001b[0m \u001b[39mwith\u001b[39;00m get_handle(\n\u001b[1;32m    238\u001b[0m     \u001b[39mself\u001b[39;49m\u001b[39m.\u001b[39;49mfilepath_or_buffer,\n\u001b[1;32m    239\u001b[0m     \u001b[39mself\u001b[39;49m\u001b[39m.\u001b[39;49mmode,\n\u001b[1;32m    240\u001b[0m     encoding\u001b[39m=\u001b[39;49m\u001b[39mself\u001b[39;49m\u001b[39m.\u001b[39;49mencoding,\n\u001b[1;32m    241\u001b[0m     errors\u001b[39m=\u001b[39;49m\u001b[39mself\u001b[39;49m\u001b[39m.\u001b[39;49merrors,\n\u001b[1;32m    242\u001b[0m     compression\u001b[39m=\u001b[39;49m\u001b[39mself\u001b[39;49m\u001b[39m.\u001b[39;49mcompression,\n\u001b[1;32m    243\u001b[0m     storage_options\u001b[39m=\u001b[39;49m\u001b[39mself\u001b[39;49m\u001b[39m.\u001b[39;49mstorage_options,\n\u001b[1;32m    244\u001b[0m ) \u001b[39mas\u001b[39;00m handles:\n\u001b[1;32m    245\u001b[0m \n\u001b[1;32m    246\u001b[0m     \u001b[39m# Note: self.encoding is irrelevant here\u001b[39;00m\n\u001b[1;32m    247\u001b[0m     \u001b[39mself\u001b[39m\u001b[39m.\u001b[39mwriter \u001b[39m=\u001b[39m csvlib\u001b[39m.\u001b[39mwriter(\n\u001b[1;32m    248\u001b[0m         handles\u001b[39m.\u001b[39mhandle,  \u001b[39m# type: ignore[arg-type]\u001b[39;00m\n\u001b[1;32m    249\u001b[0m         lineterminator\u001b[39m=\u001b[39m\u001b[39mself\u001b[39m\u001b[39m.\u001b[39mline_terminator,\n\u001b[0;32m   (...)\u001b[0m\n\u001b[1;32m    254\u001b[0m         quotechar\u001b[39m=\u001b[39m\u001b[39mself\u001b[39m\u001b[39m.\u001b[39mquotechar,\n\u001b[1;32m    255\u001b[0m     )\n\u001b[1;32m    257\u001b[0m     \u001b[39mself\u001b[39m\u001b[39m.\u001b[39m_save()\n",
      "File \u001b[0;32m~/opt/anaconda3/lib/python3.9/site-packages/pandas/io/common.py:702\u001b[0m, in \u001b[0;36mget_handle\u001b[0;34m(path_or_buf, mode, encoding, compression, memory_map, is_text, errors, storage_options)\u001b[0m\n\u001b[1;32m    697\u001b[0m \u001b[39melif\u001b[39;00m \u001b[39misinstance\u001b[39m(handle, \u001b[39mstr\u001b[39m):\n\u001b[1;32m    698\u001b[0m     \u001b[39m# Check whether the filename is to be opened in binary mode.\u001b[39;00m\n\u001b[1;32m    699\u001b[0m     \u001b[39m# Binary mode does not support 'encoding' and 'newline'.\u001b[39;00m\n\u001b[1;32m    700\u001b[0m     \u001b[39mif\u001b[39;00m ioargs\u001b[39m.\u001b[39mencoding \u001b[39mand\u001b[39;00m \u001b[39m\"\u001b[39m\u001b[39mb\u001b[39m\u001b[39m\"\u001b[39m \u001b[39mnot\u001b[39;00m \u001b[39min\u001b[39;00m ioargs\u001b[39m.\u001b[39mmode:\n\u001b[1;32m    701\u001b[0m         \u001b[39m# Encoding\u001b[39;00m\n\u001b[0;32m--> 702\u001b[0m         handle \u001b[39m=\u001b[39m \u001b[39mopen\u001b[39;49m(\n\u001b[1;32m    703\u001b[0m             handle,\n\u001b[1;32m    704\u001b[0m             ioargs\u001b[39m.\u001b[39;49mmode,\n\u001b[1;32m    705\u001b[0m             encoding\u001b[39m=\u001b[39;49mioargs\u001b[39m.\u001b[39;49mencoding,\n\u001b[1;32m    706\u001b[0m             errors\u001b[39m=\u001b[39;49merrors,\n\u001b[1;32m    707\u001b[0m             newline\u001b[39m=\u001b[39;49m\u001b[39m\"\u001b[39;49m\u001b[39m\"\u001b[39;49m,\n\u001b[1;32m    708\u001b[0m         )\n\u001b[1;32m    709\u001b[0m     \u001b[39melse\u001b[39;00m:\n\u001b[1;32m    710\u001b[0m         \u001b[39m# Binary mode\u001b[39;00m\n\u001b[1;32m    711\u001b[0m         handle \u001b[39m=\u001b[39m \u001b[39mopen\u001b[39m(handle, ioargs\u001b[39m.\u001b[39mmode)\n",
      "\u001b[0;31mFileNotFoundError\u001b[0m: [Errno 2] No such file or directory: '../data/interim/add_rel_action.csv'"
     ]
    }
   ],
   "source": [
    "train.to_csv('../data/interim/add_rel_action.csv', index = False)\n",
    "train"
   ]
  },
  {
   "cell_type": "markdown",
   "metadata": {},
   "source": []
  },
  {
   "cell_type": "code",
   "execution_count": null,
   "metadata": {},
   "outputs": [],
   "source": []
  },
  {
   "cell_type": "code",
   "execution_count": 154,
   "metadata": {},
   "outputs": [
    {
     "name": "stderr",
     "output_type": "stream",
     "text": [
      "/var/folders/t5/ydd18qxn5k56yh8rf4qh43gh0000gp/T/ipykernel_69962/1970588993.py:4: UserWarning: \n",
      "\n",
      "`distplot` is a deprecated function and will be removed in seaborn v0.14.0.\n",
      "\n",
      "Please adapt your code to use either `displot` (a figure-level function with\n",
      "similar flexibility) or `histplot` (an axes-level function for histograms).\n",
      "\n",
      "For a guide to updating your code to use the new functions, please see\n",
      "https://gist.github.com/mwaskom/de44147ed2974457ad6372750bbe5751\n",
      "\n",
      "  sns.distplot(x=events_in_session.values, ax=ax, bins=30, kde=False)\n"
     ]
    },
    {
     "data": {
      "text/plain": [
       "Text(0.5, 0, 'Frequency')"
      ]
     },
     "execution_count": 154,
     "metadata": {},
     "output_type": "execute_result"
    },
    {
     "data": {
      "image/png": "[encoded data removed]",
      "text/plain": [
       "<Figure size 1152x648 with 1 Axes>"
      ]
     },
     "metadata": {
      "needs_background": "light"
     },
     "output_type": "display_data"
    }
   ],
   "source": [
    "#  check frequency of articles\n",
    "events_in_session = train.groupby(['customer_id'])['product_code'].count().sort_values(ascending=False)\n",
    "fig, ax = plt.subplots(figsize=(16, 9))\n",
    "sns.distplot(x=events_in_session.values, ax=ax, bins=30, kde=False)\n",
    "ax.set_title('Article frequency', fontsize=12)\n",
    "ax.set_ylabel('N of article', fontsize=12)\n",
    "ax.set_xlabel('Frequency', fontsize=12)"
   ]
  },
  {
   "cell_type": "code",
   "execution_count": 12,
   "metadata": {},
   "outputs": [
    {
     "name": "stderr",
     "output_type": "stream",
     "text": [
      "/var/folders/s_/rl9604cd5r1026gskr5tdp580000gq/T/ipykernel_62069/2106163644.py:10: UserWarning: \n",
      "\n",
      "`distplot` is a deprecated function and will be removed in seaborn v0.14.0.\n",
      "\n",
      "Please adapt your code to use either `displot` (a figure-level function with\n",
      "similar flexibility) or `histplot` (an axes-level function for histograms).\n",
      "\n",
      "For a guide to updating your code to use the new functions, please see\n",
      "https://gist.github.com/mwaskom/de44147ed2974457ad6372750bbe5751\n",
      "\n",
      "  sns.distplot(x=time_counts.values, ax=ax, bins=30, kde=False)\n"
     ]
    },
    {
     "data": {
      "image/png": "[encoded data removed]",
      "text/plain": [
       "<Figure size 1152x648 with 1 Axes>"
      ]
     },
     "metadata": {
      "needs_background": "light"
     },
     "output_type": "display_data"
    }
   ],
   "source": [
    "#  check how much time you spend in a day \n",
    "def count_seconds(x):\n",
    "    max_value = int(x.max())\n",
    "    min_value = int(x.min())\n",
    "    session_time = datetime.timedelta(microseconds=max_value - min_value)\n",
    "    return session_time.total_seconds() / 60 \n",
    "\n",
    "time_counts = train.groupby(['customer_id'])['time_stamp'].apply(count_seconds)\n",
    "fig, ax = plt.subplots(figsize=(16, 9))\n",
    "sns.distplot(x=time_counts.values, ax=ax, bins=30, kde=False)\n",
    "ax.set_title('Length of each session', fontsize=12)\n",
    "ax.set_ylabel('Frequency', fontsize=12)\n",
    "ax.set_xlabel('Minutes', fontsize=12)\n",
    "plt.show()"
   ]
  },
  {
   "cell_type": "code",
   "execution_count": 41,
   "metadata": {},
   "outputs": [],
   "source": [
    "#  check orders after add to cart\n",
    "def orders_add(df):\n",
    "    df['order'] = df['event_type'].apply(lambda x: 1 if x=='orders' else 0)  # order dummy\n",
    "    df['add_to_cart'] = df['event_type'].apply(lambda x: 1 if x=='carts' else 0)  # add to cart dummy\n",
    "    df['order_after_cart'] = df['order'].shift(-1) + df['add_to_cart']\n",
    "    df['order_after_cart'] = df['order_after_cart'].apply(lambda x: 1 if x==2 else 0)\n",
    "    per = df['order_after_cart'].value_counts(normalize=True)[1]\n",
    "    return(print(f'percentage of orders after add to cart: {per:.2%}'))\n",
    "    #return(per)\n",
    "\n",
    "#  check add to carts after click\n",
    "def carts_click(df):\n",
    "    df['click'] = df['event_type'].apply(lambda x: 1 if x == 'clicks' else 0)\n",
    "    df['cart_after_click'] = df['click'].shift(-1) + df['add_to_cart']\n",
    "    df['cart_after_click'] = df['cart_after_click'].apply(lambda x: 1 if x==2 else 0)\n",
    "    per = df['cart_after_click'].value_counts(normalize=True)[1]\n",
    "    #return(per)\n",
    "    return(print(f'percentage of add to cart after clicks: {per:.2%}'))\n",
    "\n",
    "#  check click after click\n",
    "def click_click(df):\n",
    "    df['click_after_click'] = df['click'].shift(-1) + df['click']\n",
    "    df['click_after_click'] = df['click_after_click'].apply(lambda x: 1 if x==2 else 0)\n",
    "    per = df['click_after_click'].value_counts(normalize=True)[1]\n",
    "    return(print(f'percentage of add to cart after clicks: {per:.2%}'))\n",
    "    #return(per)\n",
    "\n",
    "\n",
    "\n",
    "    "
   ]
  },
  {
   "cell_type": "markdown",
   "metadata": {},
   "source": [
    "- 50回以下，100回，以下の行動割合を出したい，購入割合など"
   ]
  },
  {
   "cell_type": "markdown",
   "metadata": {},
   "source": [
    "# action回数が50回以下"
   ]
  },
  {
   "cell_type": "code",
   "execution_count": 37,
   "metadata": {},
   "outputs": [
    {
     "name": "stdout",
     "output_type": "stream",
     "text": [
      "percentage of orders after add to cart: 0.67%\n",
      "percentage of add to cart after clicks: 4.72%\n",
      "percentage of add to cart after clicks: 86.66%\n"
     ]
    }
   ],
   "source": [
    "event_types_in_session = train.groupby(['customer_id']).count()\n",
    "event_types_in_session = event_types_in_session.query(\"product_code < 50\")\n",
    "event_types_in_session = event_types_in_session.reset_index()\n",
    "event_types_in_session = event_types_in_session[[\"customer_id\"]]\n",
    "#print(event_types_in_session)\n",
    "\n",
    "\n",
    "event_types_in_session_50 = pd.merge(event_types_in_session, train, on='customer_id', how='left')\n",
    "orders_add(event_types_in_session_50)\n",
    "carts_click(event_types_in_session_50)\n",
    "click_click(event_types_in_session_50)\n",
    "\n",
    "\n"
   ]
  },
  {
   "cell_type": "markdown",
   "metadata": {},
   "source": [
    "# action回数が50-100回"
   ]
  },
  {
   "cell_type": "code",
   "execution_count": 42,
   "metadata": {},
   "outputs": [
    {
     "name": "stdout",
     "output_type": "stream",
     "text": [
      "percentage of orders after add to cart: 0.73%\n",
      "percentage of add to cart after clicks: 6.10%\n",
      "percentage of add to cart after clicks: 82.76%\n"
     ]
    }
   ],
   "source": [
    "event_types_in_session = train.groupby(['customer_id']).count()\n",
    "event_types_in_session = event_types_in_session.query(\"50<=product_code < 100\")\n",
    "event_types_in_session = event_types_in_session.reset_index()\n",
    "event_types_in_session = event_types_in_session[[\"customer_id\"]]\n",
    "#print(event_types_in_session)\n",
    "\n",
    "event_types_in_session_50_100 = pd.merge(event_types_in_session, train, on='customer_id', how='left')\n",
    "orders_add(event_types_in_session_50_100)\n",
    "carts_click(event_types_in_session_50_100)\n",
    "click_click(event_types_in_session_50_100)\n"
   ]
  },
  {
   "cell_type": "markdown",
   "metadata": {},
   "source": [
    "# action回数が100-200回"
   ]
  },
  {
   "cell_type": "code",
   "execution_count": 43,
   "metadata": {},
   "outputs": [
    {
     "name": "stdout",
     "output_type": "stream",
     "text": [
      "percentage of orders after add to cart: 0.67%\n",
      "percentage of add to cart after clicks: 6.24%\n",
      "percentage of add to cart after clicks: 82.54%\n"
     ]
    }
   ],
   "source": [
    "event_types_in_session = train.groupby(['customer_id']).count()\n",
    "event_types_in_session = event_types_in_session.query(\"100<=product_code < 200\")\n",
    "event_types_in_session = event_types_in_session.reset_index()\n",
    "event_types_in_session = event_types_in_session[[\"customer_id\"]]\n",
    "#print(event_types_in_session)\n",
    "\n",
    "event_types_in_session_100_200 = pd.merge(event_types_in_session, train, on='customer_id', how='left')\n",
    "orders_add(event_types_in_session_100_200)\n",
    "carts_click(event_types_in_session_100_200)\n",
    "click_click(event_types_in_session_100_200)"
   ]
  },
  {
   "cell_type": "markdown",
   "metadata": {},
   "source": [
    "# action回数が200回以上"
   ]
  },
  {
   "cell_type": "code",
   "execution_count": 45,
   "metadata": {},
   "outputs": [
    {
     "name": "stdout",
     "output_type": "stream",
     "text": [
      "percentage of orders after add to cart: 0.54%\n",
      "percentage of add to cart after clicks: 6.15%\n",
      "percentage of add to cart after clicks: 83.28%\n"
     ]
    }
   ],
   "source": [
    "event_types_in_session = train.groupby(['customer_id']).count()\n",
    "event_types_in_session = event_types_in_session.query(\"200<=product_code \")\n",
    "event_types_in_session = event_types_in_session.reset_index()\n",
    "event_types_in_session = event_types_in_session[[\"customer_id\"]]\n",
    "#print(event_types_in_session)\n",
    "\n",
    "event_types_in_session_200 = pd.merge(event_types_in_session, train, on='customer_id', how='left')\n",
    "orders_add(event_types_in_session_200)\n",
    "carts_click(event_types_in_session_200)\n",
    "click_click(event_types_in_session_200)"
   ]
  },
  {
   "cell_type": "code",
   "execution_count": null,
   "metadata": {},
   "outputs": [],
   "source": [
    "\n",
    "\n"
   ]
  },
  {
   "cell_type": "code",
   "execution_count": 49,
   "metadata": {},
   "outputs": [
    {
     "name": "stdout",
     "output_type": "stream",
     "text": [
      "         customer_id  product_code  year_month  year  month  day  hour  \\\n",
      "0                 11       1110510      202207  2022      7    7    23   \n",
      "1                 11       1110510      202208  2022      8    1    22   \n",
      "2                 11       1178708      202208  2022      8    1    22   \n",
      "3                 11       1343545      202208  2022      8    1    22   \n",
      "4                 11       1343545      202208  2022      8    1    22   \n",
      "...              ...           ...         ...   ...    ...  ...   ...   \n",
      "1884488       199984       1007465      202208  2022      8    6     6   \n",
      "1884489       199984       1275299      202208  2022      8    6     6   \n",
      "1884490       199984       1007465      202208  2022      8    6     6   \n",
      "1884491       199984         45646      202208  2022      8    6     7   \n",
      "1884492       199984       1492657      202208  2022      8    6     7   \n",
      "\n",
      "            time_stamp event_type          time_stamp_all  order  add_to_cart  \\\n",
      "0        1659304800172     clicks 2022-07-31 22:00:00.172      0            0   \n",
      "1        1659387704253     clicks 2022-08-01 21:01:44.253      0            0   \n",
      "2        1659387750269     clicks 2022-08-01 21:02:30.269      0            0   \n",
      "3        1659387869941     clicks 2022-08-01 21:04:29.941      0            0   \n",
      "4        1659388012520     clicks 2022-08-01 21:06:52.520      0            0   \n",
      "...                ...        ...                     ...    ...          ...   \n",
      "1884488  1661579055459     clicks 2022-08-27 05:44:15.459      0            0   \n",
      "1884489  1661579081673     clicks 2022-08-27 05:44:41.673      0            0   \n",
      "1884490  1661579114742     clicks 2022-08-27 05:45:14.742      0            0   \n",
      "1884491  1661580767548     clicks 2022-08-27 06:12:47.548      0            0   \n",
      "1884492  1661580839339     clicks 2022-08-27 06:13:59.339      0            0   \n",
      "\n",
      "         order_after_cart  click  cart_after_click  click_after_click  \n",
      "0                       0      1                 0                  1  \n",
      "1                       0      1                 0                  1  \n",
      "2                       0      1                 0                  1  \n",
      "3                       0      1                 0                  1  \n",
      "4                       0      1                 0                  1  \n",
      "...                   ...    ...               ...                ...  \n",
      "1884488                 0      1                 0                  1  \n",
      "1884489                 0      1                 0                  1  \n",
      "1884490                 0      1                 0                  1  \n",
      "1884491                 0      1                 0                  1  \n",
      "1884492                 0      1                 0                  1  \n",
      "\n",
      "[1884493 rows x 16 columns]\n"
     ]
    }
   ],
   "source": [
    "event_types_in_session = train.groupby(['customer_id']).count()\n",
    "event_types_in_session = event_types_in_session.query(\"50<= product_code < 100\")\n",
    "\n",
    "event_types_in_session = event_types_in_session.reset_index()\n",
    "\n",
    "event_types_in_session = event_types_in_session[[\"customer_id\"]]\n",
    "#print(event_types_in_session)\n",
    "\n",
    "\n",
    "event_types_in_session_50_100 = pd.merge(event_types_in_session, train, on='customer_id', how='left')\n",
    "print(event_types_in_session_50_100)\n",
    "\n",
    "\n"
   ]
  },
  {
   "cell_type": "code",
   "execution_count": 18,
   "metadata": {},
   "outputs": [
    {
     "name": "stdout",
     "output_type": "stream",
     "text": [
      "             product_code  year_month  year  month  day  hour  time_stamp  \\\n",
      "customer_id                                                                 \n",
      "0                     276         276   276    276  276   276         276   \n",
      "1                      32          32    32     32   32    32          32   \n",
      "2                      33          33    33     33   33    33          33   \n",
      "3                     226         226   226    226  226   226         226   \n",
      "4                      19          19    19     19   19    19          19   \n",
      "...                   ...         ...   ...    ...  ...   ...         ...   \n",
      "199995                 17          17    17     17   17    17          17   \n",
      "199996                 25          25    25     25   25    25          25   \n",
      "199997                154         154   154    154  154   154         154   \n",
      "199998                  2           2     2      2    2     2           2   \n",
      "199999                  9           9     9      9    9     9           9   \n",
      "\n",
      "             event_type  time_stamp_all  \n",
      "customer_id                              \n",
      "0                   276             276  \n",
      "1                    32              32  \n",
      "2                    33              33  \n",
      "3                   226             226  \n",
      "4                    19              19  \n",
      "...                 ...             ...  \n",
      "199995               17              17  \n",
      "199996               25              25  \n",
      "199997              154             154  \n",
      "199998                2               2  \n",
      "199999                9               9  \n",
      "\n",
      "[200000 rows x 9 columns]\n",
      "             product_code  year_month  year  month  day  hour  time_stamp  \\\n",
      "customer_id                                                                 \n",
      "11                     93          93    93     93   93    93          93   \n",
      "13                     81          81    81     81   81    81          81   \n",
      "15                     86          86    86     86   86    86          86   \n",
      "17                     91          91    91     91   91    91          91   \n",
      "29                     76          76    76     76   76    76          76   \n",
      "...                   ...         ...   ...    ...  ...   ...         ...   \n",
      "199971                 97          97    97     97   97    97          97   \n",
      "199972                 58          58    58     58   58    58          58   \n",
      "199978                 79          79    79     79   79    79          79   \n",
      "199979                 51          51    51     51   51    51          51   \n",
      "199984                 54          54    54     54   54    54          54   \n",
      "\n",
      "             event_type  time_stamp_all  \n",
      "customer_id                              \n",
      "11                   93              93  \n",
      "13                   81              81  \n",
      "15                   86              86  \n",
      "17                   91              91  \n",
      "29                   76              76  \n",
      "...                 ...             ...  \n",
      "199971               97              97  \n",
      "199972               58              58  \n",
      "199978               79              79  \n",
      "199979               51              51  \n",
      "199984               54              54  \n",
      "\n",
      "[25723 rows x 9 columns]\n"
     ]
    },
    {
     "name": "stderr",
     "output_type": "stream",
     "text": [
      "/var/folders/s_/rl9604cd5r1026gskr5tdp580000gq/T/ipykernel_62069/2966239724.py:11: UserWarning: \n",
      "\n",
      "`distplot` is a deprecated function and will be removed in seaborn v0.14.0.\n",
      "\n",
      "Please adapt your code to use either `displot` (a figure-level function with\n",
      "similar flexibility) or `histplot` (an axes-level function for histograms).\n",
      "\n",
      "For a guide to updating your code to use the new functions, please see\n",
      "https://gist.github.com/mwaskom/de44147ed2974457ad6372750bbe5751\n",
      "\n",
      "  sns.distplot(x=event_types_in_session.values, ax=ax, bins=50, kde=False)\n"
     ]
    },
    {
     "data": {
      "image/png": "[encoded data removed]",
      "text/plain": [
       "<Figure size 1152x648 with 1 Axes>"
      ]
     },
     "metadata": {
      "needs_background": "light"
     },
     "output_type": "display_data"
    }
   ],
   "source": [
    "event_types_in_session = train.groupby(['customer_id']).count()\n",
    "print(event_types_in_session)\n",
    "event_types_in_session = event_types_in_session.query(\"50 < product_code < 100\")\n",
    "print(event_types_in_session)\n",
    "\n",
    "\n",
    "#x = event_types_in_session\n",
    "#print(x.values)\n",
    "\n",
    "fig, ax = plt.subplots(figsize=(16, 9))\n",
    "sns.distplot(x=event_types_in_session.values, ax=ax, bins=50, kde=False)\n",
    "ax.set_title('Number of actions', fontsize=12)\n",
    "ax.set_ylabel('Frequency', fontsize=12)\n",
    "ax.set_xlabel('Actions', fontsize=12)\n",
    "plt.show()"
   ]
  },
  {
   "cell_type": "code",
   "execution_count": 166,
   "metadata": {},
   "outputs": [
    {
     "name": "stderr",
     "output_type": "stream",
     "text": [
      "/var/folders/t5/ydd18qxn5k56yh8rf4qh43gh0000gp/T/ipykernel_69962/3500998266.py:4: UserWarning: \n",
      "\n",
      "`distplot` is a deprecated function and will be removed in seaborn v0.14.0.\n",
      "\n",
      "Please adapt your code to use either `displot` (a figure-level function with\n",
      "similar flexibility) or `histplot` (an axes-level function for histograms).\n",
      "\n",
      "For a guide to updating your code to use the new functions, please see\n",
      "https://gist.github.com/mwaskom/de44147ed2974457ad6372750bbe5751\n",
      "\n",
      "  sns.distplot(x=event_types_in_session.values, ax=ax, bins=50, kde=False)\n"
     ]
    },
    {
     "data": {
      "image/png": "[encoded data removed]",
      "text/plain": [
       "<Figure size 1152x648 with 1 Axes>"
      ]
     },
     "metadata": {
      "needs_background": "light"
     },
     "output_type": "display_data"
    }
   ],
   "source": [
    "#  check frequency of actions(events)\n",
    "event_types_in_session = train.groupby(['customer_id']).count()\n",
    "fig, ax = plt.subplots(figsize=(16, 9))\n",
    "sns.distplot(x=event_types_in_session.values, ax=ax, bins=50, kde=False)\n",
    "ax.set_title('Number of actions', fontsize=12)\n",
    "ax.set_ylabel('Frequency', fontsize=12)\n",
    "ax.set_xlabel('Actions', fontsize=12)\n",
    "plt.show()"
   ]
  },
  {
   "cell_type": "code",
   "execution_count": 168,
   "metadata": {},
   "outputs": [
    {
     "name": "stderr",
     "output_type": "stream",
     "text": [
      "/var/folders/t5/ydd18qxn5k56yh8rf4qh43gh0000gp/T/ipykernel_69962/3140739711.py:4: UserWarning: \n",
      "\n",
      "`distplot` is a deprecated function and will be removed in seaborn v0.14.0.\n",
      "\n",
      "Please adapt your code to use either `displot` (a figure-level function with\n",
      "similar flexibility) or `histplot` (an axes-level function for histograms).\n",
      "\n",
      "For a guide to updating your code to use the new functions, please see\n",
      "https://gist.github.com/mwaskom/de44147ed2974457ad6372750bbe5751\n",
      "\n",
      "  sns.distplot(x=event_types_in_session.values, ax=ax, bins=50, kde=False)\n"
     ]
    },
    {
     "data": {
      "image/png": "[encoded data removed]",
      "text/plain": [
       "<Figure size 1152x648 with 1 Axes>"
      ]
     },
     "metadata": {
      "needs_background": "light"
     },
     "output_type": "display_data"
    }
   ],
   "source": [
    "#  check number of events in a day\n",
    "event_types_in_session = train.groupby(['customer_id']).count()\n",
    "fig, ax = plt.subplots(figsize=(16, 9))\n",
    "sns.distplot(x=event_types_in_session.values, ax=ax, bins=50, kde=False)\n",
    "ax.set_title('Number of actions', fontsize=12)\n",
    "ax.set_ylabel('Frequency', fontsize=12)\n",
    "ax.set_xlabel('Actions', fontsize=12)\n",
    "plt.show()"
   ]
  },
  {
   "cell_type": "markdown",
   "metadata": {},
   "source": [
    "# 追加の分析\n",
    "- 2変数での基礎集計\n",
    "  - product_codeとの関係性を集計する\n",
    "    - time_stampにどのproductがclicks/carts/ordersされているのか\n",
    "    - 具体的にはmonth/day/hourのどのタイミングでproductがclicks/carts/ordersされたか\n",
    "- 予測に関して\n",
    "  - 正直，具体的な案が思いつかない．\n",
    "  - 基礎集計の結果から頻度が多いものを予測結果とする？\n",
    "    - 例えば，23hにはこのproductコードが選択されやすいから，テストデータにもその結果を反映させるなど"
   ]
  }
 ],
 "metadata": {
  "kernelspec": {
   "display_name": "Python 3.9.12 ('base')",
   "language": "python",
   "name": "python3"
  },
  "language_info": {
   "codemirror_mode": {
    "name": "ipython",
    "version": 3
   },
   "file_extension": ".py",
   "mimetype": "text/x-python",
   "name": "python",
   "nbconvert_exporter": "python",
   "pygments_lexer": "ipython3",
   "version": "3.9.12"
  },
  "orig_nbformat": 4,
  "vscode": {
   "interpreter": {
    "hash": "1f42edb4dda1226c3bdfd175c44224a435360a54f5242c9577829da40c5aaa30"
   }
  }
 },
 "nbformat": 4,
 "nbformat_minor": 2
}
